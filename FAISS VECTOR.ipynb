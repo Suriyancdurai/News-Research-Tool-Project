{
 "cells": [
  {
   "cell_type": "code",
   "execution_count": 40,
   "id": "6e2fe53f",
   "metadata": {},
   "outputs": [
    {
     "name": "stdout",
     "output_type": "stream",
     "text": [
      "Requirement already satisfied: faiss-cpu in c:\\users\\surie\\anaconda3\\lib\\site-packages (1.9.0.post1)\n",
      "Collecting numpy<3.0,>=1.25.0 (from faiss-cpu)\n",
      "  Using cached numpy-2.1.3-cp311-cp311-win_amd64.whl.metadata (60 kB)\n",
      "Requirement already satisfied: packaging in c:\\users\\surie\\anaconda3\\lib\\site-packages (from faiss-cpu) (24.2)\n",
      "Using cached numpy-2.1.3-cp311-cp311-win_amd64.whl (12.9 MB)\n",
      "Installing collected packages: numpy\n",
      "  Attempting uninstall: numpy\n",
      "    Found existing installation: numpy 1.23.5\n",
      "    Uninstalling numpy-1.23.5:\n",
      "      Successfully uninstalled numpy-1.23.5\n",
      "Successfully installed numpy-2.1.3\n"
     ]
    },
    {
     "name": "stderr",
     "output_type": "stream",
     "text": [
      "WARNING: Ignoring invalid distribution ~ympy (C:\\Users\\surie\\anaconda3\\Lib\\site-packages)\n",
      "WARNING: Ignoring invalid distribution ~ympy (C:\\Users\\surie\\anaconda3\\Lib\\site-packages)\n",
      "  WARNING: Failed to remove contents in a temporary directory 'C:\\Users\\surie\\anaconda3\\Lib\\site-packages\\~-mpy'.\n",
      "  You can safely remove it manually.\n",
      "WARNING: Ignoring invalid distribution ~ympy (C:\\Users\\surie\\anaconda3\\Lib\\site-packages)\n",
      "ERROR: pip's dependency resolver does not currently take into account all the packages that are installed. This behaviour is the source of the following dependency conflicts.\n",
      "gensim 4.3.0 requires FuzzyTM>=0.4.0, which is not installed.\n",
      "tables 3.8.0 requires blosc2~=2.0.0, which is not installed.\n",
      "tables 3.8.0 requires cython>=0.29.21, which is not installed.\n",
      "langchain 0.3.8 requires numpy<2,>=1.22.4; python_version < \"3.12\", but you have numpy 2.1.3 which is incompatible.\n",
      "langchain-community 0.3.8 requires numpy<2,>=1.22.4; python_version < \"3.12\", but you have numpy 2.1.3 which is incompatible.\n",
      "numba 0.57.1 requires numpy<1.25,>=1.21, but you have numpy 2.1.3 which is incompatible.\n",
      "scipy 1.11.1 requires numpy<1.28.0,>=1.21.6, but you have numpy 2.1.3 which is incompatible.\n",
      "tensorflow-intel 2.12.0 requires numpy<1.24,>=1.22, but you have numpy 2.1.3 which is incompatible.\n",
      "unstructured 0.16.8 requires numpy<2, but you have numpy 2.1.3 which is incompatible.\n"
     ]
    },
    {
     "name": "stdout",
     "output_type": "stream",
     "text": [
      "Requirement already satisfied: sentence-transformers in c:\\users\\surie\\anaconda3\\lib\\site-packages (3.3.1)\n",
      "Requirement already satisfied: transformers<5.0.0,>=4.41.0 in c:\\users\\surie\\anaconda3\\lib\\site-packages (from sentence-transformers) (4.46.3)\n",
      "Requirement already satisfied: tqdm in c:\\users\\surie\\anaconda3\\lib\\site-packages (from sentence-transformers) (4.65.0)\n",
      "Requirement already satisfied: torch>=1.11.0 in c:\\users\\surie\\anaconda3\\lib\\site-packages (from sentence-transformers) (2.5.1)\n",
      "Requirement already satisfied: scikit-learn in c:\\users\\surie\\anaconda3\\lib\\site-packages (from sentence-transformers) (1.5.1)\n",
      "Requirement already satisfied: scipy in c:\\users\\surie\\anaconda3\\lib\\site-packages (from sentence-transformers) (1.11.1)\n",
      "Requirement already satisfied: huggingface-hub>=0.20.0 in c:\\users\\surie\\anaconda3\\lib\\site-packages (from sentence-transformers) (0.26.2)\n",
      "Requirement already satisfied: Pillow in c:\\users\\surie\\anaconda3\\lib\\site-packages (from sentence-transformers) (9.4.0)\n",
      "Requirement already satisfied: filelock in c:\\users\\surie\\anaconda3\\lib\\site-packages (from huggingface-hub>=0.20.0->sentence-transformers) (3.9.0)\n",
      "Requirement already satisfied: fsspec>=2023.5.0 in c:\\users\\surie\\anaconda3\\lib\\site-packages (from huggingface-hub>=0.20.0->sentence-transformers) (2024.10.0)\n",
      "Requirement already satisfied: packaging>=20.9 in c:\\users\\surie\\anaconda3\\lib\\site-packages (from huggingface-hub>=0.20.0->sentence-transformers) (24.2)\n",
      "Requirement already satisfied: pyyaml>=5.1 in c:\\users\\surie\\anaconda3\\lib\\site-packages (from huggingface-hub>=0.20.0->sentence-transformers) (6.0)\n",
      "Requirement already satisfied: requests in c:\\users\\surie\\anaconda3\\lib\\site-packages (from huggingface-hub>=0.20.0->sentence-transformers) (2.31.0)\n",
      "Requirement already satisfied: typing-extensions>=3.7.4.3 in c:\\users\\surie\\anaconda3\\lib\\site-packages (from huggingface-hub>=0.20.0->sentence-transformers) (4.12.2)\n",
      "Requirement already satisfied: networkx in c:\\users\\surie\\anaconda3\\lib\\site-packages (from torch>=1.11.0->sentence-transformers) (3.1)\n",
      "Requirement already satisfied: jinja2 in c:\\users\\surie\\anaconda3\\lib\\site-packages (from torch>=1.11.0->sentence-transformers) (3.1.2)\n",
      "Requirement already satisfied: sympy==1.13.1 in c:\\users\\surie\\anaconda3\\lib\\site-packages (from torch>=1.11.0->sentence-transformers) (1.13.1)\n",
      "Requirement already satisfied: mpmath<1.4,>=1.1.0 in c:\\users\\surie\\anaconda3\\lib\\site-packages (from sympy==1.13.1->torch>=1.11.0->sentence-transformers) (1.3.0)\n",
      "Requirement already satisfied: colorama in c:\\users\\surie\\anaconda3\\lib\\site-packages (from tqdm->sentence-transformers) (0.4.6)\n",
      "Requirement already satisfied: numpy>=1.17 in c:\\users\\surie\\anaconda3\\lib\\site-packages (from transformers<5.0.0,>=4.41.0->sentence-transformers) (2.1.3)\n",
      "Requirement already satisfied: regex!=2019.12.17 in c:\\users\\surie\\anaconda3\\lib\\site-packages (from transformers<5.0.0,>=4.41.0->sentence-transformers) (2022.7.9)\n",
      "Requirement already satisfied: tokenizers<0.21,>=0.20 in c:\\users\\surie\\anaconda3\\lib\\site-packages (from transformers<5.0.0,>=4.41.0->sentence-transformers) (0.20.3)\n",
      "Requirement already satisfied: safetensors>=0.4.1 in c:\\users\\surie\\anaconda3\\lib\\site-packages (from transformers<5.0.0,>=4.41.0->sentence-transformers) (0.4.5)\n",
      "Requirement already satisfied: joblib>=1.2.0 in c:\\users\\surie\\anaconda3\\lib\\site-packages (from scikit-learn->sentence-transformers) (1.2.0)\n",
      "Requirement already satisfied: threadpoolctl>=3.1.0 in c:\\users\\surie\\anaconda3\\lib\\site-packages (from scikit-learn->sentence-transformers) (3.5.0)\n",
      "Collecting numpy>=1.17 (from transformers<5.0.0,>=4.41.0->sentence-transformers)\n",
      "  Using cached numpy-1.26.4-cp311-cp311-win_amd64.whl.metadata (61 kB)\n",
      "Requirement already satisfied: MarkupSafe>=2.0 in c:\\users\\surie\\anaconda3\\lib\\site-packages (from jinja2->torch>=1.11.0->sentence-transformers) (2.1.1)\n",
      "Requirement already satisfied: charset-normalizer<4,>=2 in c:\\users\\surie\\anaconda3\\lib\\site-packages (from requests->huggingface-hub>=0.20.0->sentence-transformers) (2.0.4)\n",
      "Requirement already satisfied: idna<4,>=2.5 in c:\\users\\surie\\anaconda3\\lib\\site-packages (from requests->huggingface-hub>=0.20.0->sentence-transformers) (3.4)\n",
      "Requirement already satisfied: urllib3<3,>=1.21.1 in c:\\users\\surie\\anaconda3\\lib\\site-packages (from requests->huggingface-hub>=0.20.0->sentence-transformers) (1.26.16)\n",
      "Requirement already satisfied: certifi>=2017.4.17 in c:\\users\\surie\\anaconda3\\lib\\site-packages (from requests->huggingface-hub>=0.20.0->sentence-transformers) (2024.2.2)\n",
      "Using cached numpy-1.26.4-cp311-cp311-win_amd64.whl (15.8 MB)\n",
      "Installing collected packages: numpy\n",
      "  Attempting uninstall: numpy\n",
      "    Found existing installation: numpy 2.1.3\n",
      "    Uninstalling numpy-2.1.3:\n",
      "      Successfully uninstalled numpy-2.1.3\n",
      "Successfully installed numpy-1.26.4\n"
     ]
    },
    {
     "name": "stderr",
     "output_type": "stream",
     "text": [
      "WARNING: Ignoring invalid distribution ~ympy (C:\\Users\\surie\\anaconda3\\Lib\\site-packages)\n",
      "WARNING: Ignoring invalid distribution ~ympy (C:\\Users\\surie\\anaconda3\\Lib\\site-packages)\n",
      "WARNING: Ignoring invalid distribution ~ympy (C:\\Users\\surie\\anaconda3\\Lib\\site-packages)\n",
      "ERROR: pip's dependency resolver does not currently take into account all the packages that are installed. This behaviour is the source of the following dependency conflicts.\n",
      "gensim 4.3.0 requires FuzzyTM>=0.4.0, which is not installed.\n",
      "tables 3.8.0 requires blosc2~=2.0.0, which is not installed.\n",
      "tables 3.8.0 requires cython>=0.29.21, which is not installed.\n",
      "numba 0.57.1 requires numpy<1.25,>=1.21, but you have numpy 1.26.4 which is incompatible.\n",
      "tensorflow-intel 2.12.0 requires numpy<1.24,>=1.22, but you have numpy 1.26.4 which is incompatible.\n"
     ]
    }
   ],
   "source": [
    "#Install Packages\n",
    "!pip install faiss-cpu\n",
    "!pip install sentence-transformers"
   ]
  },
  {
   "cell_type": "code",
   "execution_count": 41,
   "id": "caee7bf0",
   "metadata": {},
   "outputs": [],
   "source": [
    "#import necessary libaries\n",
    "import pandas as pd"
   ]
  },
  {
   "cell_type": "code",
   "execution_count": 42,
   "id": "2c77d17a",
   "metadata": {},
   "outputs": [
    {
     "data": {
      "text/html": [
       "<div>\n",
       "<style scoped>\n",
       "    .dataframe tbody tr th:only-of-type {\n",
       "        vertical-align: middle;\n",
       "    }\n",
       "\n",
       "    .dataframe tbody tr th {\n",
       "        vertical-align: top;\n",
       "    }\n",
       "\n",
       "    .dataframe thead th {\n",
       "        text-align: right;\n",
       "    }\n",
       "</style>\n",
       "<table border=\"1\" class=\"dataframe\">\n",
       "  <thead>\n",
       "    <tr style=\"text-align: right;\">\n",
       "      <th></th>\n",
       "      <th>text</th>\n",
       "      <th>category</th>\n",
       "    </tr>\n",
       "  </thead>\n",
       "  <tbody>\n",
       "    <tr>\n",
       "      <th>0</th>\n",
       "      <td>Meditation and yoga can improve mental health</td>\n",
       "      <td>Health</td>\n",
       "    </tr>\n",
       "    <tr>\n",
       "      <th>1</th>\n",
       "      <td>Fruits, whole grains and vegetables helps cont...</td>\n",
       "      <td>Health</td>\n",
       "    </tr>\n",
       "    <tr>\n",
       "      <th>2</th>\n",
       "      <td>These are the latest fashion trends for this week</td>\n",
       "      <td>Fashion</td>\n",
       "    </tr>\n",
       "    <tr>\n",
       "      <th>3</th>\n",
       "      <td>Vibrant color jeans for male are becoming a trend</td>\n",
       "      <td>Fashion</td>\n",
       "    </tr>\n",
       "    <tr>\n",
       "      <th>4</th>\n",
       "      <td>The concert starts at 7 PM tonight</td>\n",
       "      <td>Event</td>\n",
       "    </tr>\n",
       "    <tr>\n",
       "      <th>5</th>\n",
       "      <td>Navaratri dandiya program at Expo center in Mu...</td>\n",
       "      <td>Event</td>\n",
       "    </tr>\n",
       "    <tr>\n",
       "      <th>6</th>\n",
       "      <td>Exciting vacation destinations for your next trip</td>\n",
       "      <td>Travel</td>\n",
       "    </tr>\n",
       "    <tr>\n",
       "      <th>7</th>\n",
       "      <td>Maldives and Srilanka are gaining popularity i...</td>\n",
       "      <td>Travel</td>\n",
       "    </tr>\n",
       "  </tbody>\n",
       "</table>\n",
       "</div>"
      ],
      "text/plain": [
       "                                                text category\n",
       "0      Meditation and yoga can improve mental health   Health\n",
       "1  Fruits, whole grains and vegetables helps cont...   Health\n",
       "2  These are the latest fashion trends for this week  Fashion\n",
       "3  Vibrant color jeans for male are becoming a trend  Fashion\n",
       "4                 The concert starts at 7 PM tonight    Event\n",
       "5  Navaratri dandiya program at Expo center in Mu...    Event\n",
       "6  Exciting vacation destinations for your next trip   Travel\n",
       "7  Maldives and Srilanka are gaining popularity i...   Travel"
      ]
     },
     "execution_count": 42,
     "metadata": {},
     "output_type": "execute_result"
    }
   ],
   "source": [
    "df=pd.read_csv(\"sample_text.csv\")\n",
    "df"
   ]
  },
  {
   "cell_type": "code",
   "execution_count": 43,
   "id": "5498d970",
   "metadata": {},
   "outputs": [
    {
     "data": {
      "text/plain": [
       "(8, 2)"
      ]
     },
     "execution_count": 43,
     "metadata": {},
     "output_type": "execute_result"
    }
   ],
   "source": [
    "df.shape"
   ]
  },
  {
   "cell_type": "markdown",
   "id": "e819eb72",
   "metadata": {},
   "source": [
    "#### Step 1: Create source Embeddings for Text Column"
   ]
  },
  {
   "cell_type": "code",
   "execution_count": 44,
   "id": "344eed1b",
   "metadata": {
    "scrolled": false
   },
   "outputs": [],
   "source": [
    "from sentence_transformers import SentenceTransformer"
   ]
  },
  {
   "cell_type": "code",
   "execution_count": 45,
   "id": "be6815b8",
   "metadata": {},
   "outputs": [],
   "source": [
    "encoder=SentenceTransformer(\"all-mpnet-base-v2\")\n"
   ]
  },
  {
   "cell_type": "code",
   "execution_count": 46,
   "id": "807cc15f",
   "metadata": {},
   "outputs": [],
   "source": [
    "vectors=encoder.encode(df.text)"
   ]
  },
  {
   "cell_type": "code",
   "execution_count": 47,
   "id": "7ba68939",
   "metadata": {},
   "outputs": [
    {
     "data": {
      "text/plain": [
       "array([[-0.00247386,  0.03626738, -0.05290457, ..., -0.09152357,\n",
       "        -0.03970006, -0.04330486],\n",
       "       [-0.03357265,  0.0098052 , -0.03250131, ..., -0.05165471,\n",
       "         0.02245886, -0.0315618 ],\n",
       "       [-0.01865333, -0.04051305, -0.01235392, ...,  0.00610591,\n",
       "        -0.07179645,  0.02773852],\n",
       "       ...,\n",
       "       [-0.00066453,  0.04252131, -0.05645506, ...,  0.0131547 ,\n",
       "        -0.03183563, -0.04357663],\n",
       "       [-0.03317152,  0.03252462, -0.02484841, ...,  0.01174419,\n",
       "         0.0574712 ,  0.00571026],\n",
       "       [-0.00166399,  0.00413823, -0.04597077, ...,  0.02008529,\n",
       "         0.05656242, -0.00161591]], dtype=float32)"
      ]
     },
     "execution_count": 47,
     "metadata": {},
     "output_type": "execute_result"
    }
   ],
   "source": [
    "vectors"
   ]
  },
  {
   "cell_type": "code",
   "execution_count": 48,
   "id": "85a2c419",
   "metadata": {},
   "outputs": [
    {
     "data": {
      "text/plain": [
       "(8, 768)"
      ]
     },
     "execution_count": 48,
     "metadata": {},
     "output_type": "execute_result"
    }
   ],
   "source": [
    "vectors.shape"
   ]
  },
  {
   "cell_type": "code",
   "execution_count": 49,
   "id": "e84e81c9",
   "metadata": {},
   "outputs": [
    {
     "data": {
      "text/plain": [
       "array([-2.47385865e-03,  3.62673812e-02, -5.29045686e-02, -2.17348412e-02,\n",
       "        1.41724274e-02, -1.01591100e-03,  2.23636422e-02,  3.65195721e-02,\n",
       "        3.80900763e-02,  5.22010261e-03, -3.00865527e-02,  2.05449737e-03,\n",
       "        1.08502787e-02, -8.49088803e-02, -5.57267945e-03, -6.06598891e-02,\n",
       "        2.32001580e-03, -1.51408454e-02,  1.20671494e-02,  1.98905319e-02,\n",
       "       -1.27935484e-02, -2.72811223e-02, -3.31878923e-02,  3.40651278e-03,\n",
       "        8.41173343e-03, -1.94854308e-02,  4.88132238e-02,  2.24118605e-02,\n",
       "        4.53466661e-02, -5.90892062e-02, -9.13182423e-02, -1.22329080e-03,\n",
       "       -4.05045450e-02,  8.67181830e-03,  1.26565294e-06, -1.92451440e-02,\n",
       "       -3.20658907e-02, -4.08172496e-02,  8.79176855e-02, -1.52631504e-02,\n",
       "        1.09909270e-02, -4.47977036e-02, -4.74819634e-03,  3.52632739e-02,\n",
       "        1.31070642e-02,  1.09943300e-02, -3.45756859e-03,  9.12349001e-02,\n",
       "        5.68808839e-02,  4.82893363e-02, -4.51440038e-03,  3.58451083e-02,\n",
       "       -2.44209599e-02, -4.28084917e-02, -1.66666154e-02,  1.65210459e-02,\n",
       "        1.14227459e-02,  6.19199201e-02, -2.31557097e-02, -3.98107320e-02,\n",
       "       -1.20360255e-02, -3.24893519e-02, -4.68718372e-02,  5.74309193e-02,\n",
       "       -2.09294166e-02,  8.66613723e-03,  2.93694437e-02,  1.39485637e-03,\n",
       "        2.89673340e-02,  1.57141071e-02, -4.39898670e-03,  3.33096497e-02,\n",
       "        3.25463675e-02, -5.67623647e-03,  9.64473840e-03, -1.09200543e-02,\n",
       "       -9.13838577e-03, -2.17638817e-02, -1.64267479e-03,  2.95123812e-02,\n",
       "        7.90998787e-02,  1.52952056e-02, -3.61722484e-02, -1.28437243e-02,\n",
       "        7.60599226e-02, -2.54636910e-02, -4.98354482e-03, -9.66970995e-03,\n",
       "        1.23360073e-02, -1.11458572e-02, -1.25426641e-02, -4.38241027e-02,\n",
       "       -1.63963949e-03,  3.94693483e-03,  5.90723008e-04,  1.25497291e-02,\n",
       "       -1.35575682e-02, -1.38589934e-01, -1.79839395e-02,  8.95770863e-02,\n",
       "        6.93042651e-02,  5.44512384e-02, -1.73115022e-02, -6.94496855e-02,\n",
       "        9.26832575e-03,  2.52372865e-02,  1.27629712e-02, -4.95674415e-03,\n",
       "       -1.05311358e-02,  6.89907074e-02, -4.03786264e-03,  1.46953920e-02,\n",
       "       -2.53697466e-02, -3.24942842e-02, -4.91566071e-03,  4.10974864e-03,\n",
       "       -6.16342127e-02, -9.87225678e-03, -4.40229811e-02, -2.49388143e-02,\n",
       "       -2.57239789e-02, -6.45754710e-02, -2.28088554e-02,  8.39936722e-04,\n",
       "        5.17682098e-02,  7.28095770e-02, -2.78259851e-02, -2.70896312e-02,\n",
       "        2.56124660e-02, -2.85152979e-02,  2.48931032e-02,  1.52170444e-02,\n",
       "       -1.82602461e-02,  4.57473332e-03,  4.00797604e-03, -4.10633907e-02,\n",
       "        5.58518618e-02, -4.68992675e-03, -5.42436615e-02,  4.36738646e-03,\n",
       "        1.01203378e-02, -9.13167559e-03,  8.82923007e-02, -2.30879206e-02,\n",
       "       -2.15984192e-02, -4.62850295e-02,  2.45606508e-02, -9.63645522e-03,\n",
       "        2.04569194e-02, -3.36907059e-02, -2.33146846e-02, -3.01284854e-06,\n",
       "       -4.21611592e-02, -2.33145319e-02,  3.98631059e-02,  5.20909615e-02,\n",
       "        8.87798890e-02, -7.32793123e-04,  3.44772637e-02, -2.87740063e-02,\n",
       "        4.24330980e-02, -1.99291371e-02,  2.78220475e-02, -3.48257460e-02,\n",
       "        5.40323071e-02, -4.23691273e-02,  8.31101313e-02, -2.88300849e-02,\n",
       "       -6.22712709e-02,  2.47736983e-02, -6.59211203e-02, -1.81271993e-02,\n",
       "       -1.48121417e-02,  1.07428856e-01, -4.06898139e-03,  6.28882423e-02,\n",
       "       -1.45183774e-02,  2.66863313e-02, -8.66079032e-02, -1.52694965e-02,\n",
       "       -3.13384482e-03, -2.73706135e-03, -1.79909430e-02,  1.99596621e-02,\n",
       "        8.21226686e-02,  6.80239825e-03, -7.02427980e-03,  2.94617545e-02,\n",
       "       -1.36624733e-02, -4.27073874e-02, -4.59483676e-02, -2.15018820e-02,\n",
       "        1.33593939e-02, -4.04234566e-02, -3.29471636e-03,  1.99418254e-02,\n",
       "        4.95411940e-02,  5.59021682e-02,  1.10123418e-02, -1.27652916e-03,\n",
       "       -3.47213000e-02,  5.04798219e-02, -2.76384465e-02, -6.08148016e-02,\n",
       "       -4.09358963e-02, -1.70139503e-02,  2.28634253e-02,  3.50620318e-03,\n",
       "        8.88337418e-02, -2.17468571e-02,  7.32047250e-03,  4.30595316e-02,\n",
       "       -2.76744645e-03, -1.28805405e-02,  1.48884102e-03, -7.65301147e-03,\n",
       "        7.79391208e-04,  3.98993120e-02,  1.81988701e-02,  2.18550768e-03,\n",
       "       -1.44026121e-02,  6.61468655e-02,  1.29945474e-02,  3.00762535e-04,\n",
       "        6.94511682e-02,  9.69163608e-03,  7.73052573e-02,  1.49983503e-02,\n",
       "        7.68602416e-02,  1.50437606e-02, -2.70854961e-02,  1.03822360e-02,\n",
       "       -6.34128693e-03, -1.86571833e-02, -5.77930585e-02,  2.80816425e-02,\n",
       "        2.32388619e-02, -2.65861843e-02, -4.37124893e-02,  2.25694776e-02,\n",
       "        2.60373391e-02,  5.91905601e-02, -9.07666236e-03, -2.58117076e-02,\n",
       "       -2.82178586e-03, -1.48377568e-02, -2.11601686e-02,  2.95709129e-02,\n",
       "       -6.05772994e-02,  9.92971845e-03,  3.09270946e-03, -2.78295036e-02,\n",
       "       -4.66294810e-02, -1.66598689e-02, -3.01650651e-02, -4.93829884e-02,\n",
       "       -4.89022024e-02, -1.16062853e-02,  1.28895184e-02, -1.51607841e-02,\n",
       "       -1.83715858e-02, -6.28013397e-03,  4.56334464e-03, -3.93355154e-02,\n",
       "        1.97598934e-02, -2.09158249e-02,  3.26804072e-02, -9.99123827e-02,\n",
       "       -7.31088221e-03, -2.85855420e-02, -4.75265346e-02, -7.53557077e-03,\n",
       "        7.45946867e-03, -1.76943727e-02, -3.87278162e-02, -1.26046119e-02,\n",
       "        6.57024011e-02,  9.98488814e-02,  3.23767774e-02, -3.14150155e-02,\n",
       "       -3.39230634e-02,  2.18933411e-02,  4.17155623e-02, -2.91292928e-02,\n",
       "        1.69251710e-02, -2.70651989e-02,  1.02947773e-02, -8.51274561e-03,\n",
       "        5.82498685e-02,  6.05033105e-03,  2.51693148e-02,  1.17143327e-02,\n",
       "       -1.43267941e-02, -2.68335994e-02, -3.36445943e-02,  4.13523018e-02,\n",
       "        1.23572936e-02,  3.27557586e-02,  1.36760983e-03, -3.43487225e-02,\n",
       "       -2.23306362e-02,  1.16951130e-02,  2.89603788e-02,  9.82654747e-03,\n",
       "        4.48703729e-02,  1.36506585e-02, -2.55218204e-02,  1.16558382e-02,\n",
       "        1.72281750e-02, -1.19526731e-02,  2.94619463e-02,  5.44008752e-03,\n",
       "        7.05651613e-03, -2.76309717e-02,  2.19648853e-02,  2.89274082e-02,\n",
       "        2.90115587e-02,  1.71293505e-02,  1.71571188e-02,  3.06242872e-02,\n",
       "       -3.33005260e-03, -4.28258777e-02, -2.78930049e-02, -8.78215954e-03,\n",
       "       -1.97486021e-03, -3.04209068e-02,  1.01123929e-01,  1.11174779e-02,\n",
       "        3.70043772e-03,  3.05224415e-02, -6.94846921e-03,  3.36759165e-02,\n",
       "        1.49477664e-02,  5.09506874e-02, -6.17867634e-02, -6.54373914e-02,\n",
       "        1.01318518e-02,  8.71553365e-03, -2.13060621e-02, -7.16114836e-03,\n",
       "        2.81145666e-02,  6.08823402e-03, -6.53892532e-02,  8.65298584e-02,\n",
       "       -4.26639058e-02, -1.95683707e-02,  6.20291708e-03,  5.45220561e-02,\n",
       "       -2.94268248e-04, -7.94980600e-02,  2.34850850e-02, -2.81758215e-02,\n",
       "       -2.67926082e-02,  8.09145533e-03,  1.06042512e-02, -3.51757593e-02,\n",
       "        3.66235338e-02,  1.09312916e-02,  2.97115389e-02,  1.30287325e-02,\n",
       "       -3.92857231e-02,  1.45116448e-02,  1.87348723e-02, -1.32707432e-02,\n",
       "        6.87149242e-02, -3.04465163e-02, -2.08047740e-02,  1.08850766e-02,\n",
       "        2.52188984e-02,  1.71259232e-02, -3.36280838e-02,  5.18848896e-02,\n",
       "       -1.62589848e-02,  1.43418936e-02, -5.09705693e-02,  7.62143061e-02,\n",
       "       -3.95709183e-03, -6.92037195e-02, -5.83421215e-02, -1.35672595e-02,\n",
       "        6.34204084e-03,  1.52591560e-02,  6.45107916e-03,  4.78069391e-03,\n",
       "        2.21218802e-02, -1.46031855e-02,  1.99064575e-02,  4.94005568e-02,\n",
       "        3.77785377e-02, -4.72102538e-02,  1.19165261e-03, -7.77721405e-02,\n",
       "        7.51762241e-02,  1.51349744e-02, -3.00767049e-02, -2.54277792e-02,\n",
       "       -7.68554118e-03, -3.32965814e-02,  2.68353876e-02,  1.16433138e-02,\n",
       "       -2.65071746e-02, -2.21001413e-02,  3.13199833e-02, -1.75455268e-02,\n",
       "        1.62755214e-02,  1.05226589e-02,  4.59100418e-02,  1.12994034e-02,\n",
       "        2.25945422e-03, -4.32900526e-02,  2.55048480e-02,  9.08373743e-02,\n",
       "        3.49960476e-02,  1.99541543e-02,  8.99381638e-02, -1.25246802e-02,\n",
       "        2.99615115e-02,  5.30710304e-03,  3.87516506e-02, -7.73843080e-02,\n",
       "       -2.13108622e-02,  1.71742048e-02, -2.26808861e-02,  3.90662998e-02,\n",
       "       -1.48159852e-02,  6.43334389e-02,  4.15602252e-02,  3.50663206e-03,\n",
       "       -3.73801328e-02, -2.15710495e-02,  3.59704085e-02,  1.26670552e-02,\n",
       "        1.18572805e-02, -1.57607533e-02,  2.89345272e-02, -1.26258307e-03,\n",
       "       -1.25826104e-02, -1.85953863e-02, -4.02568541e-02, -4.52977046e-02,\n",
       "       -3.23486105e-02, -9.25446954e-03,  1.25144823e-02, -1.65086016e-02,\n",
       "        1.14767561e-02,  2.81502660e-02,  8.33326206e-02,  3.36188152e-02,\n",
       "        4.08967579e-04,  3.39801647e-02,  1.61180552e-02,  3.48991007e-02,\n",
       "        1.53090563e-02, -1.57535225e-02,  4.15873267e-02, -2.98247337e-02,\n",
       "       -4.53815497e-02, -1.02242194e-01,  4.03167866e-02,  1.70005076e-02,\n",
       "        1.87225565e-02, -2.08056695e-03, -3.33344960e-03,  3.12029943e-02,\n",
       "        4.42040531e-04, -6.45755455e-02, -6.61168098e-02, -6.12062477e-02,\n",
       "       -1.36192245e-02, -2.49696542e-02,  6.13838211e-02,  2.51729693e-02,\n",
       "       -6.04644511e-03,  2.46976838e-02,  1.33113004e-02,  2.91291717e-02,\n",
       "       -3.77130173e-02,  3.14110741e-02,  7.01061264e-02, -1.87028553e-02,\n",
       "        4.64439169e-02, -3.50710340e-02,  5.78637747e-03,  2.02970244e-02,\n",
       "       -9.14944743e-04,  2.73546483e-02, -4.49902974e-02, -1.92701519e-02,\n",
       "       -1.94980577e-03, -2.72162538e-02, -1.74493832e-03,  5.99823743e-02,\n",
       "        3.38413613e-03, -4.43555266e-02,  2.25251652e-02, -1.98008623e-02,\n",
       "       -1.27886003e-02, -1.68491043e-02, -3.18891704e-02, -9.83175915e-03,\n",
       "       -2.37168893e-02, -3.51713970e-04,  2.70687183e-03,  4.34033126e-02,\n",
       "        2.23511062e-03,  1.04529141e-02, -1.25210825e-02,  3.80456150e-02,\n",
       "       -5.37329353e-04, -1.31307421e-02,  1.76104568e-02, -3.21590807e-04,\n",
       "       -4.33224440e-02, -6.97795749e-02,  2.04764456e-02,  2.54792254e-03,\n",
       "        3.64246592e-02,  1.31792929e-02,  3.74211781e-02, -2.40744464e-02,\n",
       "        1.58513151e-02,  2.33805180e-02, -1.43253217e-02,  9.85235721e-03,\n",
       "       -1.55072883e-02,  8.11945833e-03, -2.57197283e-02,  4.66311304e-03,\n",
       "       -1.50064770e-02, -1.59888770e-02, -6.18274957e-02, -3.19935679e-02,\n",
       "        3.00306994e-02, -2.62036063e-02, -4.40739840e-02,  4.71211076e-02,\n",
       "       -8.53407234e-02,  5.49824983e-02, -6.54165912e-03,  4.11518924e-02,\n",
       "        4.12454791e-02, -2.99727693e-02,  8.77856463e-02, -4.84300638e-03,\n",
       "       -1.86586957e-02, -2.43209619e-02, -3.44157335e-03,  1.71137825e-02,\n",
       "        5.27162291e-02, -3.81458700e-02, -6.85427561e-02,  1.49509972e-02,\n",
       "       -2.22115722e-02, -2.86749043e-02, -2.97931768e-03, -3.73255787e-33,\n",
       "       -8.48156027e-03,  5.95544018e-02, -9.73883737e-03,  2.78522335e-02,\n",
       "        4.26140428e-03, -4.62204404e-02, -1.60526688e-04,  2.03654654e-02,\n",
       "        2.74291467e-02,  3.67005542e-02,  8.95547308e-03,  7.47959167e-02,\n",
       "       -5.74470032e-03,  1.78796630e-02, -8.56291410e-03, -1.87858269e-02,\n",
       "       -2.86743883e-02,  5.29136090e-03, -7.28311669e-03, -1.84069406e-02,\n",
       "       -3.48132253e-02,  5.07888645e-02,  3.45481448e-02, -4.04981002e-02,\n",
       "       -4.27603684e-02,  2.78409533e-02,  4.66893911e-02, -6.46444857e-02,\n",
       "       -5.29187825e-03, -5.78814885e-03, -1.56754758e-02, -5.47068240e-03,\n",
       "        1.39789134e-02, -1.11806451e-03,  5.50467113e-04, -2.26583835e-02,\n",
       "        1.50561519e-02,  3.38191539e-02, -8.25206377e-03,  2.16513332e-02,\n",
       "        8.77491082e-04, -2.40288861e-03, -2.82622334e-02,  1.05068907e-02,\n",
       "        3.68513651e-02, -2.31945422e-02, -2.93093156e-02, -4.81788293e-02,\n",
       "        2.89042629e-02, -4.68107983e-02, -3.55235077e-02, -2.09480654e-02,\n",
       "       -8.83257948e-03,  8.06665123e-02, -8.48142803e-02, -3.95478904e-02,\n",
       "       -5.03684282e-02,  2.69837994e-02, -3.94668803e-03, -2.39756592e-02,\n",
       "        3.29291746e-02,  4.16704826e-02, -2.45396271e-02, -3.85609828e-02,\n",
       "       -3.02902237e-02, -2.84514315e-02, -6.83767721e-02, -9.38019063e-03,\n",
       "       -4.70948964e-02, -2.15401947e-02,  4.15226780e-02,  6.90569822e-03,\n",
       "        2.96323691e-02, -1.55481100e-02, -2.56334953e-02, -4.94204313e-02,\n",
       "       -1.07960338e-02,  1.36496052e-02,  8.46199133e-03,  4.44032848e-02,\n",
       "        3.94050090e-04,  2.20193639e-02,  3.60401906e-02,  5.93104661e-02,\n",
       "        2.14909744e-02, -1.90565791e-02, -2.08019614e-02,  1.91410929e-02,\n",
       "       -3.78735806e-03,  1.66846141e-02,  2.79686172e-02, -6.88836863e-03,\n",
       "       -9.25207697e-03, -2.20814738e-02,  4.68295999e-02,  2.11678334e-02,\n",
       "       -2.44131479e-02, -7.68524874e-03,  3.94079760e-02, -5.65718152e-02,\n",
       "        8.71803053e-03,  2.10748408e-02, -1.76222790e-02,  5.53251058e-02,\n",
       "        3.49679291e-02, -2.62319371e-02,  5.69753908e-02, -7.94605538e-02,\n",
       "       -1.52110429e-02,  2.09261365e-02,  1.75831355e-02,  4.12070565e-02,\n",
       "        2.66289301e-02, -1.34374686e-02, -4.86177765e-02,  1.27243148e-02,\n",
       "        9.39347874e-03, -8.11940525e-03,  2.95724105e-02, -6.94516525e-02,\n",
       "       -7.10698515e-02,  3.01111984e-04,  4.31027822e-02, -5.95074669e-02,\n",
       "        2.65518799e-02, -5.90478703e-02,  4.46865223e-02, -1.46237938e-02,\n",
       "       -9.81806777e-03, -4.89699282e-02,  1.01139974e-02,  2.82771997e-02,\n",
       "        1.99888518e-07, -6.35880753e-02,  1.15380557e-02, -1.61977001e-02,\n",
       "       -3.75170708e-02,  2.24945433e-02,  5.74997487e-03, -6.25734180e-02,\n",
       "       -1.51105076e-02,  2.80584898e-02,  3.69874164e-02, -4.67125289e-02,\n",
       "       -2.84615662e-02,  1.72771811e-02, -9.28012189e-03,  7.98696727e-02,\n",
       "       -8.46899897e-02,  3.83957960e-02,  1.41006708e-03, -9.62680392e-03,\n",
       "        1.36490567e-02, -1.77746620e-02,  4.18013148e-02,  8.53309035e-03,\n",
       "       -1.77573110e-03, -8.90157372e-03,  3.19797508e-02,  3.75544615e-02,\n",
       "        1.10768480e-02,  5.14425933e-02,  4.77531813e-02,  9.78297591e-02,\n",
       "       -9.33888461e-03, -6.87361583e-02, -3.38470228e-02, -4.79166536e-03,\n",
       "       -3.35370190e-02, -2.90470012e-02,  2.22574919e-02, -6.03159540e-04,\n",
       "        4.80033606e-02, -3.26163359e-02,  7.76099861e-02, -2.88890619e-02,\n",
       "       -1.22942831e-02,  1.82095338e-02, -1.09790482e-01, -2.57628318e-02,\n",
       "        3.70127745e-02, -6.64497400e-03, -2.65491679e-02,  2.67257765e-02,\n",
       "        2.67418642e-02,  6.14932692e-03,  3.98129225e-02, -1.56968017e-03,\n",
       "        6.82463171e-04,  4.84148636e-02,  2.97230086e-03, -1.46996314e-02,\n",
       "       -3.73888016e-02, -1.90462768e-02,  4.02793288e-02,  1.27062341e-03,\n",
       "        1.20830513e-03, -5.90573102e-02, -1.78196356e-02, -5.61400801e-02,\n",
       "        9.20051737e-35,  1.11878626e-02,  1.60857085e-02,  9.83775128e-03,\n",
       "       -2.01887786e-02, -7.61512062e-03, -4.81337309e-02, -6.21873736e-02,\n",
       "        6.26687845e-03, -9.15235728e-02, -3.97000648e-02, -4.33048569e-02],\n",
       "      dtype=float32)"
      ]
     },
     "execution_count": 49,
     "metadata": {},
     "output_type": "execute_result"
    }
   ],
   "source": [
    "vectors[0]"
   ]
  },
  {
   "cell_type": "code",
   "execution_count": 50,
   "id": "f9c86ff0",
   "metadata": {},
   "outputs": [
    {
     "data": {
      "text/plain": [
       "(768,)"
      ]
     },
     "execution_count": 50,
     "metadata": {},
     "output_type": "execute_result"
    }
   ],
   "source": [
    "vectors[0].shape"
   ]
  },
  {
   "cell_type": "code",
   "execution_count": 51,
   "id": "49921706",
   "metadata": {},
   "outputs": [
    {
     "data": {
      "text/plain": [
       "768"
      ]
     },
     "execution_count": 51,
     "metadata": {},
     "output_type": "execute_result"
    }
   ],
   "source": [
    "dim=vectors.shape[1]\n",
    "dim "
   ]
  },
  {
   "cell_type": "markdown",
   "id": "f15a1f38",
   "metadata": {},
   "source": [
    "### Step 2 : Build a FAISS Index for vectors"
   ]
  },
  {
   "cell_type": "code",
   "execution_count": 52,
   "id": "1fc4655c",
   "metadata": {},
   "outputs": [],
   "source": [
    "import faiss\n",
    "\n",
    "index=faiss.IndexFlatL2(dim)"
   ]
  },
  {
   "cell_type": "markdown",
   "id": "0322feb5",
   "metadata": {},
   "source": [
    "### Step 3 : Normalize the source vectors ( using L2 distance to measure similarity) and add to the index"
   ]
  },
  {
   "cell_type": "code",
   "execution_count": 53,
   "id": "0a2219eb",
   "metadata": {},
   "outputs": [],
   "source": [
    "index.add(vectors)"
   ]
  },
  {
   "cell_type": "code",
   "execution_count": 54,
   "id": "43260512",
   "metadata": {},
   "outputs": [
    {
     "data": {
      "text/plain": [
       "<faiss.swigfaiss_avx2.IndexFlatL2; proxy of <Swig Object of type 'faiss::IndexFlatL2 *' at 0x000001BC9E250990> >"
      ]
     },
     "execution_count": 54,
     "metadata": {},
     "output_type": "execute_result"
    }
   ],
   "source": [
    "index"
   ]
  },
  {
   "cell_type": "markdown",
   "id": "a3dd0411",
   "metadata": {},
   "source": [
    "### Step 4 : Encode search text using same encorder and normalize the output vector"
   ]
  },
  {
   "cell_type": "code",
   "execution_count": 55,
   "id": "a2bc9347",
   "metadata": {},
   "outputs": [
    {
     "data": {
      "text/plain": [
       "(768,)"
      ]
     },
     "execution_count": 55,
     "metadata": {},
     "output_type": "execute_result"
    }
   ],
   "source": [
    "#search_query=\"I want to buy a polo t-shirt\"\n",
    "search_query = \"looking for places to visit during the holidays\"\n",
    "# search_query = \"An apple a day keeps the doctor away\n",
    "\n",
    "vec=encoder.encode(search_query)\n",
    "vec.shape"
   ]
  },
  {
   "cell_type": "code",
   "execution_count": 56,
   "id": "150a76c5",
   "metadata": {},
   "outputs": [
    {
     "data": {
      "text/plain": [
       "(1, 768)"
      ]
     },
     "execution_count": 56,
     "metadata": {},
     "output_type": "execute_result"
    }
   ],
   "source": [
    "import numpy as np\n",
    "svec=np.array(vec).reshape(1,-1)\n",
    "svec.shape"
   ]
  },
  {
   "cell_type": "code",
   "execution_count": 57,
   "id": "cf3b0b81",
   "metadata": {},
   "outputs": [],
   "source": [
    "#faiss.normalize_L2(svec)"
   ]
  },
  {
   "cell_type": "markdown",
   "id": "616c12a9",
   "metadata": {},
   "source": [
    "### Step 5: Search for similar vector in the FAISS index created"
   ]
  },
  {
   "cell_type": "code",
   "execution_count": 58,
   "id": "a9f2fd2e",
   "metadata": {},
   "outputs": [
    {
     "data": {
      "text/plain": [
       "array([[0.92737234, 1.1601744 ]], dtype=float32)"
      ]
     },
     "execution_count": 58,
     "metadata": {},
     "output_type": "execute_result"
    }
   ],
   "source": [
    "distances,I = index.search(svec,k=2)\n",
    "distances"
   ]
  },
  {
   "cell_type": "code",
   "execution_count": 59,
   "id": "834231e4",
   "metadata": {},
   "outputs": [
    {
     "data": {
      "text/plain": [
       "array([[6, 7]], dtype=int64)"
      ]
     },
     "execution_count": 59,
     "metadata": {},
     "output_type": "execute_result"
    }
   ],
   "source": [
    "I"
   ]
  },
  {
   "cell_type": "code",
   "execution_count": 60,
   "id": "0fbd5c7d",
   "metadata": {},
   "outputs": [
    {
     "data": {
      "text/html": [
       "<div>\n",
       "<style scoped>\n",
       "    .dataframe tbody tr th:only-of-type {\n",
       "        vertical-align: middle;\n",
       "    }\n",
       "\n",
       "    .dataframe tbody tr th {\n",
       "        vertical-align: top;\n",
       "    }\n",
       "\n",
       "    .dataframe thead th {\n",
       "        text-align: right;\n",
       "    }\n",
       "</style>\n",
       "<table border=\"1\" class=\"dataframe\">\n",
       "  <thead>\n",
       "    <tr style=\"text-align: right;\">\n",
       "      <th></th>\n",
       "      <th>text</th>\n",
       "      <th>category</th>\n",
       "    </tr>\n",
       "  </thead>\n",
       "  <tbody>\n",
       "    <tr>\n",
       "      <th>6</th>\n",
       "      <td>Exciting vacation destinations for your next trip</td>\n",
       "      <td>Travel</td>\n",
       "    </tr>\n",
       "    <tr>\n",
       "      <th>7</th>\n",
       "      <td>Maldives and Srilanka are gaining popularity i...</td>\n",
       "      <td>Travel</td>\n",
       "    </tr>\n",
       "  </tbody>\n",
       "</table>\n",
       "</div>"
      ],
      "text/plain": [
       "                                                text category\n",
       "6  Exciting vacation destinations for your next trip   Travel\n",
       "7  Maldives and Srilanka are gaining popularity i...   Travel"
      ]
     },
     "execution_count": 60,
     "metadata": {},
     "output_type": "execute_result"
    }
   ],
   "source": [
    "df.loc[I[0]]"
   ]
  },
  {
   "cell_type": "code",
   "execution_count": 62,
   "id": "2ed1cb95",
   "metadata": {},
   "outputs": [
    {
     "data": {
      "text/plain": [
       "'looking for places to visit during the holidays'"
      ]
     },
     "execution_count": 62,
     "metadata": {},
     "output_type": "execute_result"
    }
   ],
   "source": [
    "search_query"
   ]
  },
  {
   "cell_type": "markdown",
   "id": "7695261c",
   "metadata": {},
   "source": [
    "**The two results from the dataframe are similar to a search_query**"
   ]
  },
  {
   "cell_type": "code",
   "execution_count": null,
   "id": "407d9838",
   "metadata": {},
   "outputs": [],
   "source": []
  }
 ],
 "metadata": {
  "kernelspec": {
   "display_name": "Python 3 (ipykernel)",
   "language": "python",
   "name": "python3"
  },
  "language_info": {
   "codemirror_mode": {
    "name": "ipython",
    "version": 3
   },
   "file_extension": ".py",
   "mimetype": "text/x-python",
   "name": "python",
   "nbconvert_exporter": "python",
   "pygments_lexer": "ipython3",
   "version": "3.11.5"
  }
 },
 "nbformat": 4,
 "nbformat_minor": 5
}
